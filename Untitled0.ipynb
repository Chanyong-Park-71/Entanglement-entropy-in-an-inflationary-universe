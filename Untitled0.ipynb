{
  "nbformat": 4,
  "nbformat_minor": 0,
  "metadata": {
    "colab": {
      "name": "Untitled0.ipynb",
      "provenance": [],
      "collapsed_sections": [],
      "authorship_tag": "ABX9TyN9QcRvqlrYEYdsZCNRJIe3",
      "include_colab_link": true
    },
    "kernelspec": {
      "name": "python3",
      "display_name": "Python 3"
    },
    "language_info": {
      "name": "python"
    }
  },
  "cells": [
    {
      "cell_type": "markdown",
      "metadata": {
        "id": "view-in-github",
        "colab_type": "text"
      },
      "source": [
        "<a href=\"https://colab.research.google.com/github/Chanyong-Park-71/Entanglement-entropy-in-an-inflationary-universe/blob/master/Untitled0.ipynb\" target=\"_parent\"><img src=\"https://colab.research.google.com/assets/colab-badge.svg\" alt=\"Open In Colab\"/></a>"
      ]
    },
    {
      "cell_type": "markdown",
      "metadata": {
        "id": "RXCPOaRFtfan"
      },
      "source": [
        "1. Example for [integration](https://docs.scipy.org/doc/scipy/reference/tutorial/integrate.html)"
      ]
    },
    {
      "cell_type": "code",
      "metadata": {
        "id": "_jH1fibebbvl"
      },
      "source": [
        "from scipy.integrate import quad\n",
        "def integrand(x, a):\n",
        "    return x**a"
      ],
      "execution_count": 40,
      "outputs": []
    },
    {
      "cell_type": "code",
      "metadata": {
        "colab": {
          "base_uri": "https://localhost:8080/"
        },
        "id": "E27Lfh24cVYM",
        "outputId": "192b3d4e-75a6-4b54-a1d4-bfb4119f16ef"
      },
      "source": [
        "a = -1/2\n",
        "I = quad(integrand, 0, 1, args=(a))\n",
        "I"
      ],
      "execution_count": 42,
      "outputs": [
        {
          "output_type": "execute_result",
          "data": {
            "text/plain": [
              "(1.9999999999999991, 3.774758283725532e-15)"
            ]
          },
          "metadata": {},
          "execution_count": 42
        }
      ]
    },
    {
      "cell_type": "code",
      "metadata": {
        "colab": {
          "base_uri": "https://localhost:8080/"
        },
        "id": "qMyI4qs2euYp",
        "outputId": "08190cb4-6acb-4d19-b78c-cfc11fb5e90c"
      },
      "source": [
        "import scipy.integrate as integrate\n",
        "result = integrate.quad(lambda x: integrand(x,0), 0, 1)\n",
        "print(result)"
      ],
      "execution_count": 50,
      "outputs": [
        {
          "output_type": "stream",
          "name": "stdout",
          "text": [
            "(1.0, 1.1102230246251565e-14)\n"
          ]
        }
      ]
    },
    {
      "cell_type": "markdown",
      "metadata": {
        "id": "bxspggeft3ZQ"
      },
      "source": [
        "2. Example of [interpolation](https://docs.scipy.org/doc/scipy/reference/tutorial/interpolate.html)"
      ]
    },
    {
      "cell_type": "code",
      "metadata": {
        "id": "CmmbXRrgcYt6"
      },
      "source": [
        "from scipy.interpolate import interp1d"
      ],
      "execution_count": 51,
      "outputs": []
    },
    {
      "cell_type": "code",
      "metadata": {
        "id": "wn5VTo1vcsNa"
      },
      "source": [
        "x = np.linspace(0, 10, num=11, endpoint=True)\n",
        "y = np.cos(-x**2/9.0)\n",
        "f = interp1d(x, y)\n",
        "f2 = interp1d(x, y, kind='cubic')"
      ],
      "execution_count": 52,
      "outputs": []
    },
    {
      "cell_type": "code",
      "metadata": {
        "colab": {
          "base_uri": "https://localhost:8080/",
          "height": 265
        },
        "id": "SgAJT_7WcwF6",
        "outputId": "06f46472-d696-496c-ab7b-2c712e846ccc"
      },
      "source": [
        "xnew = np.linspace(0, 10, num=41, endpoint=True)\n",
        "import matplotlib.pyplot as plt\n",
        "plt.plot(x, y, 'o', xnew, f(xnew), '-', xnew, f2(xnew), '--')\n",
        "plt.legend(['data', 'linear', 'cubic'], loc='best')\n",
        "plt.show()"
      ],
      "execution_count": 53,
      "outputs": [
        {
          "output_type": "display_data",
          "data": {
            "image/png": "[encoded data removed]",
            "text/plain": [
              "<Figure size 432x288 with 1 Axes>"
            ]
          },
          "metadata": {
            "needs_background": "light"
          }
        }
      ]
    },
    {
      "cell_type": "markdown",
      "metadata": {
        "id": "OuX8yFVatFRB"
      },
      "source": [
        "3 . Example for [Find root](https://www.tensorflow.org/probability/api_docs/python/tfp/math/find_root_secant)"
      ]
    },
    {
      "cell_type": "code",
      "metadata": {
        "id": "b7Vqjj35gOyj"
      },
      "source": [
        "import tensorflow as tf\n",
        "import tensorflow_probability as tfp\n",
        "#tf.enable_eager_execution()"
      ],
      "execution_count": 26,
      "outputs": []
    },
    {
      "cell_type": "code",
      "metadata": {
        "colab": {
          "base_uri": "https://localhost:8080/"
        },
        "id": "HTLcw2-GlG4x",
        "outputId": "4ec503a2-c197-4f3a-b8ea-534b0d75cc2e"
      },
      "source": [
        "ff = lambda x: x**2 - 4\n",
        "x = tf.constant([1], dtype=tf.float64)\n",
        "\n",
        "Re1=tfp.math.find_root_secant(objective_fn=ff, initial_position=x)\n",
        "print(Re1)\n"
      ],
      "execution_count": 54,
      "outputs": [
        {
          "output_type": "stream",
          "name": "stdout",
          "text": [
            "RootSearchResults(estimated_root=<tf.Tensor: shape=(1,), dtype=float64, numpy=array([2.])>, objective_at_estimated_root=<tf.Tensor: shape=(1,), dtype=float64, numpy=array([-1.5242918e-09])>, num_iterations=<tf.Tensor: shape=(1,), dtype=int32, numpy=array([7], dtype=int32)>)\n"
          ]
        }
      ]
    },
    {
      "cell_type": "code",
      "metadata": {
        "colab": {
          "base_uri": "https://localhost:8080/"
        },
        "id": "ah3zT8rRxNzN",
        "outputId": "de88741f-947e-409e-b7f8-271fda8a97bf"
      },
      "source": [
        "Re=tfp.math.find_root_secant(objective_fn=ff,\n",
        "                     initial_position=x,\n",
        "                     stopping_policy_fn=tf.reduce_any)\n",
        "Re[1]"
      ],
      "execution_count": 35,
      "outputs": [
        {
          "output_type": "execute_result",
          "data": {
            "text/plain": [
              "<tf.Tensor: shape=(1,), dtype=float64, numpy=array([-3.32879146e-08])>"
            ]
          },
          "metadata": {},
          "execution_count": 35
        }
      ]
    },
    {
      "cell_type": "code",
      "metadata": {
        "colab": {
          "base_uri": "https://localhost:8080/"
        },
        "id": "dKmVmIvRkxUq",
        "outputId": "d58b2101-c80b-4b3e-9a5b-9f67b58d0a6a"
      },
      "source": [
        "def f(x):\n",
        "  return tf.constant([0., 63. / 8], dtype=tf.float64) * x**5 \\\n",
        "      + tf.constant([5. / 2, -70. / 8], dtype=tf.float64) * x**3 \\\n",
        "      + tf.constant([-3. / 2, 15. / 8], dtype=tf.float64) * x\n",
        "\n",
        "x = tf.constant([-1, -1], dtype=tf.float64)\n",
        "\n",
        "tfp.math.find_root_secant(objective_fn=f, initial_position=x)"
      ],
      "execution_count": 68,
      "outputs": [
        {
          "output_type": "execute_result",
          "data": {
            "text/plain": [
              "RootSearchResults(estimated_root=<tf.Tensor: shape=(2,), dtype=float64, numpy=array([-0.77459667, -0.90617985])>, objective_at_estimated_root=<tf.Tensor: shape=(2,), dtype=float64, numpy=array([-7.81339438e-11, -4.81727769e-10])>, num_iterations=<tf.Tensor: shape=(2,), dtype=int32, numpy=array([7, 7], dtype=int32)>)"
            ]
          },
          "metadata": {},
          "execution_count": 68
        }
      ]
    },
    {
      "cell_type": "code",
      "metadata": {
        "colab": {
          "base_uri": "https://localhost:8080/"
        },
        "id": "GsWMoj-Hnm0V",
        "outputId": "b2ce8f1e-b6ec-4ccd-e713-a857e2c9fbff"
      },
      "source": [
        "def f(x):\n",
        "  return tf.constant([0., 63. / 8], dtype=tf.float64) * x**5 \\\n",
        "      + tf.constant([5. / 2, -70. / 8], dtype=tf.float64) * x**3 \\\n",
        "      + tf.constant([-3. / 2, 15. / 8], dtype=tf.float64) * x\n",
        "\n",
        "x = tf.constant([[-1, -1], [10, 10]], dtype=tf.float64)\n",
        "\n",
        "tfp.math.find_root_secant(objective_fn=f, initial_position=x)"
      ],
      "execution_count": 80,
      "outputs": [
        {
          "output_type": "execute_result",
          "data": {
            "text/plain": [
              "RootSearchResults(estimated_root=<tf.Tensor: shape=(2, 2), dtype=float64, numpy=\n",
              "array([[-0.77459667, -0.90617985],\n",
              "       [ 0.77459667,  0.90617985]])>, objective_at_estimated_root=<tf.Tensor: shape=(2, 2), dtype=float64, numpy=\n",
              "array([[-7.81339438e-11, -4.81727991e-10],\n",
              "       [ 6.66025013e-11,  7.44957207e-10]])>, num_iterations=<tf.Tensor: shape=(2, 2), dtype=int32, numpy=\n",
              "array([[ 7,  7],\n",
              "       [16, 24]], dtype=int32)>)"
            ]
          },
          "metadata": {},
          "execution_count": 80
        }
      ]
    },
    {
      "cell_type": "code",
      "metadata": {
        "id": "qCW2H3AzrD03"
      },
      "source": [
        ""
      ],
      "execution_count": null,
      "outputs": []
    },
    {
      "cell_type": "markdown",
      "metadata": {
        "id": "nUxBKoeesKxF"
      },
      "source": [
        "# 새 섹션"
      ]
    }
  ]
}